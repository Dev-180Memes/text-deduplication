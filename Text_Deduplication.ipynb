{
  "nbformat": 4,
  "nbformat_minor": 0,
  "metadata": {
    "colab": {
      "provenance": [],
      "authorship_tag": "ABX9TyODr/ypJk+zRSsVpS8QfLoA",
      "include_colab_link": true
    },
    "kernelspec": {
      "name": "python3",
      "display_name": "Python 3"
    },
    "language_info": {
      "name": "python"
    }
  },
  "cells": [
    {
      "cell_type": "markdown",
      "metadata": {
        "id": "view-in-github",
        "colab_type": "text"
      },
      "source": [
        "<a href=\"https://colab.research.google.com/github/Dev-180Memes/text-deduplication/blob/main/Text_Deduplication.ipynb\" target=\"_parent\"><img src=\"https://colab.research.google.com/assets/colab-badge.svg\" alt=\"Open In Colab\"/></a>"
      ]
    },
    {
      "cell_type": "code",
      "execution_count": 1,
      "metadata": {
        "id": "FdpfU_3Wj2_K"
      },
      "outputs": [],
      "source": [
        "import hashlib\n",
        "import time\n",
        "import psutil\n",
        "import os\n",
        "from collections import defaultdict\n",
        "import re"
      ]
    },
    {
      "cell_type": "code",
      "source": [
        "def get_memory_usage():\n",
        "  process = psutil.Process(os.getpid())\n",
        "  return process.memory_info().rss / 1024 / 1024"
      ],
      "metadata": {
        "id": "jBvn1DK7kDox"
      },
      "execution_count": 2,
      "outputs": []
    },
    {
      "cell_type": "code",
      "source": [
        "class SimHash:\n",
        "  def __init__(self, text, hash_size=64):\n",
        "    self.hash_size = hash_size\n",
        "    self.simhash = self._compute_simhash(text)\n",
        "\n",
        "  def _tokenize(self, text):\n",
        "    text = text.lower()\n",
        "    tokens = re.findall(r'\\w+', text)\n",
        "    return tokens\n",
        "\n",
        "  def _hash(self, token):\n",
        "    return int(hashlib.sha1(token.encode('utf-8')).hexdigest(), 16)\n",
        "\n",
        "  def _compute_simhash(self, text):\n",
        "    v = [0] * self.hash_size\n",
        "    tokens = self._tokenize(text)\n",
        "    weights = defaultdict(int)\n",
        "    for token in tokens:\n",
        "      weights[token] += 1\n",
        "\n",
        "    for token, weight in weights.items():\n",
        "      token_hash = self._hash(token)\n",
        "      for i in range(self.hash_size):\n",
        "        bit = (token_hash >> i) & 1\n",
        "        v[i] += weight if bit else -weight\n",
        "\n",
        "    fingerprint = 0\n",
        "    for i in range(self.hash_size):\n",
        "      if v[i] > 0:\n",
        "        fingerprint |= 1 << i\n",
        "    return fingerprint\n",
        "\n",
        "  def hamming_distance(self, other_simhash):\n",
        "    x = self.simhash ^ other_simhash\n",
        "    distance = 0\n",
        "    while x:\n",
        "      distance += x & 1\n",
        "      x >>= 1\n",
        "    return distance"
      ],
      "metadata": {
        "id": "mKvU1xPmkTL7"
      },
      "execution_count": 10,
      "outputs": []
    },
    {
      "cell_type": "code",
      "source": [
        "class CDCTTTD:\n",
        "  def __init__(self, text, min_size=64, max_size=256, window_size=48):\n",
        "    self.min_size = min_size\n",
        "    self.max_size = max_size\n",
        "    self.window_size = window_size\n",
        "    self.hash = self._compute_hash(text)\n",
        "\n",
        "  def _rolling_hash(self, window):\n",
        "    return int(hashlib.md5(window.encode('utf-8')).hexdigest(), 16)\n",
        "\n",
        "  def _compute_hash(self, text):\n",
        "    if len(text) < self.min_size:\n",
        "      return hashlib.sha1(text.encode('utf-8')).hexdigest()\n",
        "\n",
        "    chunks = []\n",
        "    start = 0\n",
        "    pos = self.min_size\n",
        "\n",
        "    while pos < len(text):\n",
        "      window = text[pos-self.window_size:pos] if pos >= self.window_size else text[:pos]\n",
        "      hash_val = self._rolling_hash(window)\n",
        "\n",
        "      primary_div = 2**13\n",
        "      backup_div = 2**11\n",
        "\n",
        "      if (pos >= self.min_size and hash_val % primary_div == 0) or (pos >= self.max_size and hash_val % backup_div == 0):\n",
        "        chunks.append(text[start:pos])\n",
        "        start = pos\n",
        "      pos += 1\n",
        "\n",
        "    if start < len(text):\n",
        "      chunks.append(text[start:])\n",
        "\n",
        "    return hashlib.sha1(''.join(chunks).encode('utf-8')).hexdigest()"
      ],
      "metadata": {
        "id": "jWQFWAQqn21T"
      },
      "execution_count": 11,
      "outputs": []
    },
    {
      "cell_type": "code",
      "source": [
        "def evaluate_deduplication(input_file, output_simhash, output_cdctttd, simhash_threshold=3):\n",
        "  with open(input_file, 'r', encoding='utf-8') as f:\n",
        "    lines = [line.strip() for line in f.readlines() if line.strip()]\n",
        "\n",
        "  total_lines = len(lines)\n",
        "  metrics = {\n",
        "      'simhash': {\n",
        "          'ratio': 0,\n",
        "          'time': 0,\n",
        "          'memory': 0\n",
        "      },\n",
        "      'cdctttd': {\n",
        "          'ratio': 0,\n",
        "          'time': 0,\n",
        "          'memory': 0\n",
        "      }\n",
        "  }\n",
        "\n",
        "  start_time = time.time()\n",
        "  start_memory = get_memory_usage()\n",
        "\n",
        "  simhash_seen = []\n",
        "  simhash_unique = []\n",
        "  for line in lines:\n",
        "    simhash_obj = SimHash(line)  # Renamed to simhash_obj\n",
        "    is_duplicate = False\n",
        "    for seen_hash in simhash_seen:\n",
        "      if simhash_obj.hamming_distance(seen_hash) <= simhash_threshold:\n",
        "        is_duplicate = True\n",
        "        break\n",
        "    if not is_duplicate:\n",
        "      simhash_seen.append(simhash_obj.simhash)\n",
        "      simhash_unique.append(line)\n",
        "\n",
        "  # Use 'simhash' as the key instead of the simhash object\n",
        "  metrics['simhash']['time'] = time.time() - start_time\n",
        "  metrics['simhash']['memory'] = get_memory_usage() - start_memory\n",
        "  metrics['simhash']['ratio'] = (total_lines - len(simhash_unique)) / total_lines if total_lines > 0 else 0\n",
        "\n",
        "  with open(output_simhash, 'w', encoding='utf-8') as f:\n",
        "    f.writelines(line + '\\n' for line in simhash_unique)\n",
        "\n",
        "  start_time = time.time()\n",
        "  start_memory = get_memory_usage()\n",
        "\n",
        "  cdctttd_seen = set()\n",
        "  cdctttd_unique = []\n",
        "  for line in lines:\n",
        "    cdctttd_obj = CDCTTTD(line) # Renamed to cdctttd_obj\n",
        "    if cdctttd_obj.hash not in cdctttd_seen:\n",
        "      cdctttd_seen.add(cdctttd_obj.hash)\n",
        "      cdctttd_unique.append(line)\n",
        "\n",
        "  # Use 'cdctttd' as the key instead of the cdctttd object\n",
        "  metrics['cdctttd']['time'] = time.time() - start_time\n",
        "  metrics['cdctttd']['memory'] = get_memory_usage() - start_memory\n",
        "  metrics['cdctttd']['ratio'] = (total_lines - len(cdctttd_unique)) / total_lines if total_lines > 0 else 0\n",
        "\n",
        "  with open(output_cdctttd, 'w', encoding='utf-8') as f:\n",
        "    f.writelines(line + '\\n' for line in cdctttd_unique)\n",
        "\n",
        "  return metrics"
      ],
      "metadata": {
        "id": "5kT2-yqPrIOK"
      },
      "execution_count": 17,
      "outputs": []
    },
    {
      "cell_type": "code",
      "source": [
        "input_file = 'input.txt'\n",
        "output_simhash = 'output_simhash.txt'\n",
        "output_cdctttd = 'output_cdctttd.txt'"
      ],
      "metadata": {
        "id": "jlJnO8ajuhh1"
      },
      "execution_count": 18,
      "outputs": []
    },
    {
      "cell_type": "code",
      "source": [
        "sample_content = \"\"\"This is a test document\n",
        "    This is a TEST document!\n",
        "    Another different document\n",
        "    This is a test Document?\n",
        "    Completely unique content\"\"\""
      ],
      "metadata": {
        "id": "pyeF23YTupDj"
      },
      "execution_count": 19,
      "outputs": []
    },
    {
      "cell_type": "code",
      "source": [
        "with open(input_file, 'w', encoding='utf-8') as f:\n",
        "        f.write(sample_content)"
      ],
      "metadata": {
        "id": "9s0PtXhXut1M"
      },
      "execution_count": 20,
      "outputs": []
    },
    {
      "cell_type": "code",
      "source": [
        "results = evaluate_deduplication(input_file, output_simhash, output_cdctttd)"
      ],
      "metadata": {
        "id": "MD2PLpDMuw0D"
      },
      "execution_count": 21,
      "outputs": []
    },
    {
      "cell_type": "code",
      "source": [
        "print(\"Evaluation Metrics:\")\n",
        "print(\"\\nSimHash:\")\n",
        "print(f\"Deduplication Ratio: {results['simhash']['ratio']:.2%}\")\n",
        "print(f\"Execution Time: {results['simhash']['time']:.4f} seconds\")\n",
        "print(f\"Memory Utilization: {results['simhash']['memory']:.2f} MB\")\n",
        "\n",
        "print(\"\\nCDC-TTTD:\")\n",
        "print(f\"Deduplication Ratio: {results['cdctttd']['ratio']:.2%}\")\n",
        "print(f\"Execution Time: {results['cdctttd']['time']:.4f} seconds\")\n",
        "print(f\"Memory Utilization: {results['cdctttd']['memory']:.2f} MB\")"
      ],
      "metadata": {
        "colab": {
          "base_uri": "https://localhost:8080/"
        },
        "id": "RfLhVP7Ju24U",
        "outputId": "187c80e7-c294-4a06-afe8-a699e34b6c98"
      },
      "execution_count": 22,
      "outputs": [
        {
          "output_type": "stream",
          "name": "stdout",
          "text": [
            "Evaluation Metrics:\n",
            "\n",
            "SimHash:\n",
            "Deduplication Ratio: 40.00%\n",
            "Execution Time: 0.0010 seconds\n",
            "Memory Utilization: 0.00 MB\n",
            "\n",
            "CDC-TTTD:\n",
            "Deduplication Ratio: 0.00%\n",
            "Execution Time: 0.0002 seconds\n",
            "Memory Utilization: 0.00 MB\n"
          ]
        }
      ]
    },
    {
      "cell_type": "code",
      "source": [],
      "metadata": {
        "id": "s6rnlUDYvfZP"
      },
      "execution_count": null,
      "outputs": []
    }
  ]
}